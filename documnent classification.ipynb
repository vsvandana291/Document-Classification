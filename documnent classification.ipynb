{
 "cells": [
  {
   "cell_type": "code",
   "execution_count": 1,
   "metadata": {},
   "outputs": [
    {
     "name": "stderr",
     "output_type": "stream",
     "text": [
      "/home/vandana/anaconda3/envs/tensorflow/lib/python3.5/importlib/_bootstrap.py:222: RuntimeWarning: numpy.dtype size changed, may indicate binary incompatibility. Expected 96, got 88\n",
      "  return f(*args, **kwds)\n",
      "/home/vandana/anaconda3/envs/tensorflow/lib/python3.5/importlib/_bootstrap.py:222: RuntimeWarning: numpy.dtype size changed, may indicate binary incompatibility. Expected 96, got 88\n",
      "  return f(*args, **kwds)\n",
      "/home/vandana/anaconda3/envs/tensorflow/lib/python3.5/importlib/_bootstrap.py:222: RuntimeWarning: numpy.dtype size changed, may indicate binary incompatibility. Expected 96, got 88\n",
      "  return f(*args, **kwds)\n"
     ]
    },
    {
     "name": "stdout",
     "output_type": "stream",
     "text": [
      "BILL OF EXCHANGE FILE :\n",
      "INVOICE FILE :\n",
      "PACKAGES FILE :\n",
      "No matching document find:\n",
      "No matching document find:\n"
     ]
    }
   ],
   "source": [
    "import fitz \n",
    "import re\n",
    "import nltk\n",
    "import pandas as pd\n",
    "import numpy as np\n",
    "import pandas as pd\n",
    "from nltk.corpus import stopwords\n",
    "from nltk.tokenize import word_tokenize\n",
    "from sklearn.metrics import accuracy_score\n",
    "from sklearn.metrics import confusion_matrix\n",
    "\n",
    "#read document file\n",
    "doc = fitz.open('/home/vandana/Downloads/INTERVIEW_PROBLEM/DUMMY_TEST_DOC.pdf')\n",
    "                \n",
    "#create 2 text file using pdf\n",
    "BOE=\"/home/vandana/Downloads/INTERVIEW_PROBLEM/text_data/BOE.text\"\n",
    "INVOICE=\"/home/vandana/Downloads/INTERVIEW_PROBLEM/text_data/INVOICE.text\"\n",
    "PACKING_LIST=\"/home/vandana/Downloads/INTERVIEW_PROBLEM/text_data/PACKING_LIST.text\"\n",
    "\n",
    "                \n",
    "                \n",
    "F_BOE = open(BOE,\"a+\")\n",
    "F_PACKING_LIST=open(PACKING_LIST,\"a+\")\n",
    "F_INVOICE=open(INVOICE,\"a+\")\n",
    "                \n",
    "\n",
    "#writing text into text file based on constant string matching\n",
    "page_count = doc.pageCount\n",
    "page = 0\n",
    "\n",
    "while (page < page_count):\n",
    "    text = ''\n",
    "    p = doc.loadPage(page)\n",
    "    page += 1\n",
    "    text = text + p.getText()\n",
    "    ##extracting keywords\n",
    "    \n",
    "    if(re.findall(\"pay against Sole Bill of Exchange\",text)):\n",
    "        print(\"BILL OF EXCHANGE FILE :\")\n",
    "        F_BOE.write(text)\n",
    "        F_BOE.close()\n",
    "    \n",
    "    elif(re.findall(\"CONTRACT NO:\",text)):\n",
    "        print(\"INVOICE FILE :\")\n",
    "        F_INVOICE.write(text)\n",
    "        F_INVOICE.close()\n",
    "        \n",
    "    elif(re.findall(\"Number of Packages :\",text)):\n",
    "        print(\"PACKAGES FILE :\")\n",
    "        F_PACKING_LIST.write(text)\n",
    "        F_PACKING_LIST.close()\n",
    "    else:\n",
    "        print(\"No matching document find:\")"
   ]
  },
  {
   "cell_type": "code",
   "execution_count": 2,
   "metadata": {},
   "outputs": [
    {
     "name": "stderr",
     "output_type": "stream",
     "text": [
      "/home/vandana/anaconda3/envs/tensorflow/lib/python3.5/site-packages/ipykernel_launcher.py:3: ResourceWarning: unclosed file <_io.TextIOWrapper name='/home/vandana/Downloads/INTERVIEW_PROBLEM/text_data/DUMMY_TEST_LC.txt' mode='r' encoding='UTF-8'>\n",
      "  This is separate from the ipykernel package so we can avoid doing imports until\n"
     ]
    }
   ],
   "source": [
    "#Reading LC File:1\n",
    "\n",
    "LC_text = open(\"/home/vandana/Downloads/INTERVIEW_PROBLEM/text_data/DUMMY_TEST_LC.txt\").read()\n",
    "LC_tokens = nltk.word_tokenize(LC_text)\n",
    "LC_tokens = [token.lower() for token in LC_tokens]\n",
    "\n",
    "stop_words = [\":\",\"(\",\")\",\",\",\"of\",\"the\",\".\",\"--\",\"and\"]\n",
    "LC_filtered=[]\n",
    "for w in LC_tokens: \n",
    "    if w not in stop_words: \n",
    "        #print(w)\n",
    "        LC_filtered.append(w)\n"
   ]
  },
  {
   "cell_type": "code",
   "execution_count": 3,
   "metadata": {},
   "outputs": [
    {
     "name": "stderr",
     "output_type": "stream",
     "text": [
      "/home/vandana/anaconda3/envs/tensorflow/lib/python3.5/site-packages/ipykernel_launcher.py:2: ResourceWarning: unclosed file <_io.TextIOWrapper name='/home/vandana/Downloads/INTERVIEW_PROBLEM/text_data/BOE.text' mode='r' encoding='UTF-8'>\n",
      "  \n"
     ]
    }
   ],
   "source": [
    "#Reading Bill of Exchange File:2\n",
    "BoE_text = open(\"/home/vandana/Downloads/INTERVIEW_PROBLEM/text_data/BOE.text\").read()\n",
    "B_tokens = nltk.word_tokenize(BoE_text)\n",
    "B_tokens = [token.lower() for token in B_tokens]\n",
    "\n",
    "stop_words = [\":\",\"(\",\")\",\",\",\"of\",\"the\",\".\",\"--\",\"and\"]\n",
    "B_filtered=[]\n",
    "for w in B_tokens: \n",
    "    if w not in stop_words: \n",
    "        #print(w)\n",
    "        B_filtered.append(w)\n"
   ]
  },
  {
   "cell_type": "code",
   "execution_count": 4,
   "metadata": {},
   "outputs": [
    {
     "name": "stderr",
     "output_type": "stream",
     "text": [
      "/home/vandana/anaconda3/envs/tensorflow/lib/python3.5/site-packages/ipykernel_launcher.py:2: ResourceWarning: unclosed file <_io.TextIOWrapper name='/home/vandana/Downloads/INTERVIEW_PROBLEM/text_data/INVOICE.text' mode='r' encoding='UTF-8'>\n",
      "  \n"
     ]
    }
   ],
   "source": [
    "#Reading Invoice File:3\n",
    "INVOICE_text = open(\"/home/vandana/Downloads/INTERVIEW_PROBLEM/text_data/INVOICE.text\").read()\n",
    "INVOICE_tokens = nltk.word_tokenize(INVOICE_text)\n",
    "INVOICE_tokens = [token.lower() for token in INVOICE_tokens]\n",
    "#print(INVOICE_tokens)\n",
    "INV_filtered=[]\n",
    "for w in INVOICE_tokens: \n",
    "    if w not in stop_words: \n",
    "        #print(w)\n",
    "        INV_filtered.append(w) "
   ]
  },
  {
   "cell_type": "code",
   "execution_count": 5,
   "metadata": {},
   "outputs": [
    {
     "name": "stderr",
     "output_type": "stream",
     "text": [
      "/home/vandana/anaconda3/envs/tensorflow/lib/python3.5/site-packages/ipykernel_launcher.py:2: ResourceWarning: unclosed file <_io.TextIOWrapper name='/home/vandana/Downloads/INTERVIEW_PROBLEM/text_data/PACKING_LIST.text' mode='r' encoding='UTF-8'>\n",
      "  \n"
     ]
    }
   ],
   "source": [
    "#Reading Packing File:4\n",
    "PACKING_LIST_text = open(\"/home/vandana/Downloads/INTERVIEW_PROBLEM/text_data/PACKING_LIST.text\").read()\n",
    "PACKING_LIST_tokens = nltk.word_tokenize(PACKING_LIST_text)\n",
    "PACKING_LIST_tokens = [token.lower() for token in PACKING_LIST_tokens]\n",
    "PAC_filtered=[]\n",
    "for w in PACKING_LIST_tokens: \n",
    "    if w not in stop_words: \n",
    "        #print(w)\n",
    "        PAC_filtered.append(w) \n"
   ]
  },
  {
   "cell_type": "code",
   "execution_count": 6,
   "metadata": {},
   "outputs": [],
   "source": [
    "#convert list into Dataframe and add class label\n",
    "\n",
    "t1 = pd.DataFrame(B_filtered) \n",
    "t2= pd.DataFrame(INVOICE_tokens) \n",
    "t3= pd.DataFrame(PAC_filtered) \n",
    "t4= pd.DataFrame(LC_filtered) \n",
    "\n",
    "t1[\"label\"] = 1\n",
    "t2[\"label\"] = 2\n",
    "t3[\"label\"] = 3\n",
    "t4[\"label\"] = 4"
   ]
  },
  {
   "cell_type": "code",
   "execution_count": 7,
   "metadata": {},
   "outputs": [],
   "source": [
    "t1.drop_duplicates(keep=False,inplace=True)\n",
    "t2.drop_duplicates(keep=False,inplace=True)\n",
    "t3.drop_duplicates(keep=False,inplace=True)\n",
    "t4.drop_duplicates(keep=False,inplace=True)"
   ]
  },
  {
   "cell_type": "code",
   "execution_count": 8,
   "metadata": {},
   "outputs": [],
   "source": [
    "data=pd.concat([t1,t2,t3,t4]).drop_duplicates(subset=[0]).reset_index(drop=True)"
   ]
  },
  {
   "cell_type": "code",
   "execution_count": 9,
   "metadata": {},
   "outputs": [
    {
     "data": {
      "text/plain": [
       "(345, 2)"
      ]
     },
     "execution_count": 9,
     "metadata": {},
     "output_type": "execute_result"
    }
   ],
   "source": [
    "data.shape"
   ]
  },
  {
   "cell_type": "code",
   "execution_count": 10,
   "metadata": {},
   "outputs": [],
   "source": [
    "from sklearn.model_selection import train_test_split\n",
    "X_train, X_test, y_train, y_test = train_test_split(data[0],data['label'],test_size=0.20,random_state=20)"
   ]
  },
  {
   "cell_type": "code",
   "execution_count": 11,
   "metadata": {},
   "outputs": [
    {
     "name": "stderr",
     "output_type": "stream",
     "text": [
      "/home/vandana/anaconda3/envs/tensorflow/lib/python3.5/site-packages/numpy/matrixlib/defmatrix.py:68: PendingDeprecationWarning: the matrix subclass is not the recommended way to represent matrices or deal with linear algebra (see https://docs.scipy.org/doc/numpy/user/numpy-for-matlab-users.html). Please adjust your code to use regular ndarray.\n",
      "  return matrix(data, dtype=dtype, copy=False)\n"
     ]
    },
    {
     "data": {
      "text/plain": [
       "array([[ 0,  0,  0,  5],\n",
       "       [ 0,  0,  0, 10],\n",
       "       [ 0,  0,  0,  6],\n",
       "       [ 0,  0,  0, 48]])"
      ]
     },
     "execution_count": 11,
     "metadata": {},
     "output_type": "execute_result"
    }
   ],
   "source": [
    "#using tfidf using LR\n",
    "from sklearn.feature_extraction.text import TfidfVectorizer\n",
    "from sklearn.linear_model import LogisticRegression\n",
    "from sklearn.metrics import accuracy_score\n",
    "tfidf = TfidfVectorizer()\n",
    "X = tfidf.fit_transform(X_train)\n",
    "test=tfidf.transform(X_test)\n",
    "feature_names = tfidf.get_feature_names()\n",
    "\n",
    "model_LR = LogisticRegression()\n",
    "model_LR.fit(X, y_train)\n",
    "LR_predictions = model_LR.predict(test)\n",
    "confusion_matrix(y_test, LR_predictions)"
   ]
  },
  {
   "cell_type": "code",
   "execution_count": 12,
   "metadata": {},
   "outputs": [
    {
     "name": "stdout",
     "output_type": "stream",
     "text": [
      "69.56521739130434\n"
     ]
    }
   ],
   "source": [
    "print(accuracy_score(y_test, LR_predictions)*100)"
   ]
  },
  {
   "cell_type": "code",
   "execution_count": 20,
   "metadata": {},
   "outputs": [
    {
     "name": "stdout",
     "output_type": "stream",
     "text": [
      "66.66666666666666\n"
     ]
    },
    {
     "name": "stderr",
     "output_type": "stream",
     "text": [
      "/home/vandana/anaconda3/envs/tensorflow/lib/python3.5/site-packages/numpy/matrixlib/defmatrix.py:68: PendingDeprecationWarning: the matrix subclass is not the recommended way to represent matrices or deal with linear algebra (see https://docs.scipy.org/doc/numpy/user/numpy-for-matlab-users.html). Please adjust your code to use regular ndarray.\n",
      "  return matrix(data, dtype=dtype, copy=False)\n"
     ]
    }
   ],
   "source": [
    "#using Pipe line:\n",
    "from sklearn.linear_model import SGDClassifier\n",
    "from sklearn.pipeline import Pipeline\n",
    "from sklearn.feature_extraction.text import CountVectorizer\n",
    "from sklearn.feature_extraction.text import TfidfTransformer\n",
    "text_clf = Pipeline([('vect', CountVectorizer()),\n",
    "                     ('tfidf', TfidfTransformer()),\n",
    "                     ('clf', SGDClassifier(loss='hinge', penalty='l2',\n",
    "                      alpha=1e-3, random_state=20, max_iter=10, tol=None))])\n",
    "text_clf.fit(X_train, y_train) \n",
    "predicted = text_clf.predict(X_test)\n",
    "confusion_matrix(y_test, predicted)\n",
    "print(accuracy_score(y_test, predicted)*100)"
   ]
  },
  {
   "cell_type": "code",
   "execution_count": 21,
   "metadata": {},
   "outputs": [
    {
     "name": "stdout",
     "output_type": "stream",
     "text": [
      "68.11594202898551\n"
     ]
    },
    {
     "name": "stderr",
     "output_type": "stream",
     "text": [
      "/home/vandana/anaconda3/envs/tensorflow/lib/python3.5/site-packages/numpy/matrixlib/defmatrix.py:68: PendingDeprecationWarning: the matrix subclass is not the recommended way to represent matrices or deal with linear algebra (see https://docs.scipy.org/doc/numpy/user/numpy-for-matlab-users.html). Please adjust your code to use regular ndarray.\n",
      "  return matrix(data, dtype=dtype, copy=False)\n"
     ]
    }
   ],
   "source": [
    "#using random forest \n",
    "from sklearn.feature_selection import SelectKBest, chi2\n",
    "from sklearn.ensemble import RandomForestClassifier\n",
    "pipeline = Pipeline([('vect', CountVectorizer()),\n",
    "                     ('chi',  SelectKBest(chi2, k=100)),\n",
    "                     ('clf', RandomForestClassifier())])\n",
    "pipeline.fit(X_train, y_train) \n",
    "predicted = pipeline.predict(X_test)\n",
    "confusion_matrix(y_test, predicted)\n",
    "print(accuracy_score(y_test, predicted)*100)"
   ]
  },
  {
   "cell_type": "code",
   "execution_count": null,
   "metadata": {},
   "outputs": [],
   "source": []
  },
  {
   "cell_type": "code",
   "execution_count": null,
   "metadata": {},
   "outputs": [],
   "source": []
  }
 ],
 "metadata": {
  "kernelspec": {
   "display_name": "Python 3",
   "language": "python",
   "name": "python3"
  },
  "language_info": {
   "codemirror_mode": {
    "name": "ipython",
    "version": 3
   },
   "file_extension": ".py",
   "mimetype": "text/x-python",
   "name": "python",
   "nbconvert_exporter": "python",
   "pygments_lexer": "ipython3",
   "version": "3.5.5"
  }
 },
 "nbformat": 4,
 "nbformat_minor": 2
}
